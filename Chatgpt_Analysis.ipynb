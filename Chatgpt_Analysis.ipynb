{
 "cells": [
  {
   "cell_type": "code",
   "execution_count": null,
   "metadata": {},
   "outputs": [
    {
     "name": "stdout",
     "output_type": "stream",
     "text": [
      "F-statistic: 1.756169789624281\n",
      "p-value: 0.17297117872082665\n"
     ]
    }
   ],
   "source": [
    "# Hypothesis Test Regarding Score and Thumb-up\n",
    "import pandas as pd\n",
    "from scipy.stats import f_oneway\n",
    "\n",
    "df = pd.read_csv(\"Hypothesis_Test_Score_And_Thumb-up.csv\")\n",
    "\n",
    "group_1 = df[df['THUMBS_GROUP'] == '1-5']['SCORE']\n",
    "group_2 = df[df['THUMBS_GROUP'] == '6-20']['SCORE']\n",
    "group_3 = df[df['THUMBS_GROUP'] == '20+']['SCORE']\n",
    "\n",
    "# One-Way ANOVA\n",
    "f_stat, p_val = f_oneway(group_1, group_2, group_3)\n",
    "print(\"F-statistic:\", f_stat)\n",
    "print(\"p-value:\", p_val)\n"
   ]
  },
  {
   "cell_type": "code",
   "execution_count": 15,
   "metadata": {},
   "outputs": [
    {
     "name": "stdout",
     "output_type": "stream",
     "text": [
      "Percentage of reviews with non-ASCII characters: 21.68%\n",
      "Potential emoji-only or non-informative reviews: 2900\n"
     ]
    }
   ],
   "source": [
    "import pandas as pd\n",
    "\n",
    "df = pd.read_csv(\"chatgpt_reviews_partial_100000.csv\")\n",
    "\n",
    "df = df[df['content'].notna()]\n",
    "df['content'] = df['content'].astype(str).str.strip()\n",
    "df = df[df['content'].str.len() > 0]\n",
    "def has_non_ascii(text):\n",
    "    return any(ord(char) > 127 for char in text)\n",
    "\n",
    "df['has_non_ascii'] = df['content'].apply(has_non_ascii)\n",
    "\n",
    "non_ascii_ratio = df['has_non_ascii'].mean()\n",
    "print(f\"Percentage of reviews with non-ASCII characters: {non_ascii_ratio:.2%}\")\n",
    "\n",
    "df['content_length'] = df['content'].str.len()\n",
    "emoji_like = df[(df['has_non_ascii']) & (df['content_length'] < 5)]\n",
    "print(f\"Potential emoji-only or non-informative reviews: {len(emoji_like)}\")\n"
   ]
  },
  {
   "cell_type": "code",
   "execution_count": null,
   "metadata": {},
   "outputs": [],
   "source": []
  }
 ],
 "metadata": {
  "kernelspec": {
   "display_name": "base",
   "language": "python",
   "name": "python3"
  },
  "language_info": {
   "codemirror_mode": {
    "name": "ipython",
    "version": 3
   },
   "file_extension": ".py",
   "mimetype": "text/x-python",
   "name": "python",
   "nbconvert_exporter": "python",
   "pygments_lexer": "ipython3",
   "version": "3.12.2"
  }
 },
 "nbformat": 4,
 "nbformat_minor": 2
}
